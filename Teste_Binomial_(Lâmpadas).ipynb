{
  "nbformat": 4,
  "nbformat_minor": 0,
  "metadata": {
    "colab": {
      "provenance": [],
      "authorship_tag": "ABX9TyPNprxPBSDzUibb4HIkipxN",
      "include_colab_link": true
    },
    "kernelspec": {
      "name": "python3",
      "display_name": "Python 3"
    },
    "language_info": {
      "name": "python"
    }
  },
  "cells": [
    {
      "cell_type": "markdown",
      "metadata": {
        "id": "view-in-github",
        "colab_type": "text"
      },
      "source": [
        "<a href=\"https://colab.research.google.com/github/matteorocha/teste-binomial/blob/main/Teste_Binomial_(L%C3%A2mpadas).ipynb\" target=\"_parent\"><img src=\"https://colab.research.google.com/assets/colab-badge.svg\" alt=\"Open In Colab\"/></a>"
      ]
    },
    {
      "cell_type": "code",
      "execution_count": null,
      "metadata": {
        "colab": {
          "base_uri": "https://localhost:8080/"
        },
        "id": "Y_Grih4sDCdZ",
        "outputId": "e91ce034-db5b-4484-8fc9-fea1b35b02c9"
      },
      "outputs": [
        {
          "output_type": "stream",
          "name": "stdout",
          "text": [
            "Estatística do teste Binomial: 9\n",
            "Valor-p: 0.08957984764128923\n",
            "Não há rejeição em H0, portanto podemos concluir que 9 ou mais lâmpadas têm uma vida útil a 800 horas.\n"
          ]
        }
      ],
      "source": [
        "import numpy as np\n",
        "from scipy.stats import binomtest\n",
        "\n",
        "# Dados: duração da vida útil das lâmpadas em horas (16 amostras)\n",
        "duracao_lampadas = np.array([788, 807, 876, 841, 874, 789, 868, 890, 723, 923, 854, 901, 761, 671, 334, 576])\n",
        "\n",
        "# Contagem de lâmpadas que duram mais de 800 horas\n",
        "n_duras = np.sum(duracao_lampadas > 800)\n",
        "\n",
        "# Testando se a proporção de lâmpadas que duram mais de 800 horas é significativamente diferente de 75%\n",
        "teste_binomial = binomtest(n_duras, n=len(duracao_lampadas), p=0.75)\n",
        "\n",
        "print(\"Estatística do teste Binomial:\", n_duras)\n",
        "print(\"Valor-p:\", teste_binomial.pvalue)\n",
        "\n",
        "if teste_binomial.pvalue < 0.05:\n",
        "    print(\"Há rejeição em H0, portanto podemos concluir que os dados não suportam a afirmação do fabricante.\")\n",
        "else:\n",
        "    print(\"Não há rejeição em H0, portanto podemos concluir que 9 ou mais lâmpadas têm uma vida útil a 800 horas.\")"
      ]
    }
  ]
}